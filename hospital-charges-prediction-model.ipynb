{
 "cells": [
  {
   "cell_type": "code",
   "execution_count": 2,
   "metadata": {
    "_cell_guid": "b1076dfc-b9ad-4769-8c92-a6c4dae69d19",
    "_uuid": "8f2839f25d086af736a60e9eeb907d3b93b6e0e5",
    "execution": {
     "iopub.execute_input": "2021-09-24T07:01:02.811596Z",
     "iopub.status.busy": "2021-09-24T07:01:02.811354Z",
     "iopub.status.idle": "2021-09-24T07:01:02.818364Z",
     "shell.execute_reply": "2021-09-24T07:01:02.817337Z",
     "shell.execute_reply.started": "2021-09-24T07:01:02.811570Z"
    }
   },
   "outputs": [],
   "source": [
    "import numpy as np\n",
    "import pandas as pd\n",
    "import matplotlib.pyplot as plt\n",
    "import seaborn as sns\n",
    "import warnings\n",
    "warnings.filterwarnings(\"ignore\")"
   ]
  },
  {
   "cell_type": "code",
   "execution_count": 3,
   "metadata": {
    "execution": {
     "iopub.execute_input": "2021-09-24T07:01:24.409330Z",
     "iopub.status.busy": "2021-09-24T07:01:24.409022Z",
     "iopub.status.idle": "2021-09-24T07:01:24.440393Z",
     "shell.execute_reply": "2021-09-24T07:01:24.439574Z",
     "shell.execute_reply.started": "2021-09-24T07:01:24.409295Z"
    }
   },
   "outputs": [],
   "source": [
    "df = pd.read_csv(\"../input/insurance/insurance.csv\")\n",
    "df.shape"
   ]
  },
  {
   "cell_type": "code",
   "execution_count": 4,
   "metadata": {
    "execution": {
     "iopub.execute_input": "2021-09-24T07:01:31.342898Z",
     "iopub.status.busy": "2021-09-24T07:01:31.342618Z",
     "iopub.status.idle": "2021-09-24T07:01:31.362159Z",
     "shell.execute_reply": "2021-09-24T07:01:31.361388Z",
     "shell.execute_reply.started": "2021-09-24T07:01:31.342863Z"
    }
   },
   "outputs": [],
   "source": [
    "df.head()"
   ]
  },
  {
   "cell_type": "code",
   "execution_count": 5,
   "metadata": {
    "execution": {
     "iopub.execute_input": "2021-09-24T07:01:56.731825Z",
     "iopub.status.busy": "2021-09-24T07:01:56.731238Z",
     "iopub.status.idle": "2021-09-24T07:01:56.757790Z",
     "shell.execute_reply": "2021-09-24T07:01:56.756911Z",
     "shell.execute_reply.started": "2021-09-24T07:01:56.731781Z"
    }
   },
   "outputs": [],
   "source": [
    "df.info()"
   ]
  },
  {
   "cell_type": "code",
   "execution_count": 6,
   "metadata": {
    "execution": {
     "iopub.execute_input": "2021-09-24T07:02:18.549429Z",
     "iopub.status.busy": "2021-09-24T07:02:18.548410Z",
     "iopub.status.idle": "2021-09-24T07:02:18.557610Z",
     "shell.execute_reply": "2021-09-24T07:02:18.556830Z",
     "shell.execute_reply.started": "2021-09-24T07:02:18.549387Z"
    }
   },
   "outputs": [],
   "source": [
    "df.isnull().sum()"
   ]
  },
  {
   "cell_type": "code",
   "execution_count": 7,
   "metadata": {
    "execution": {
     "iopub.execute_input": "2021-09-24T07:03:05.799725Z",
     "iopub.status.busy": "2021-09-24T07:03:05.799416Z",
     "iopub.status.idle": "2021-09-24T07:03:05.809717Z",
     "shell.execute_reply": "2021-09-24T07:03:05.808902Z",
     "shell.execute_reply.started": "2021-09-24T07:03:05.799692Z"
    }
   },
   "outputs": [],
   "source": [
    "num_var = df.select_dtypes([\"int64\",\"float64\"]).keys()\n",
    "num_var"
   ]
  },
  {
   "cell_type": "code",
   "execution_count": 8,
   "metadata": {
    "execution": {
     "iopub.execute_input": "2021-09-24T07:03:26.705343Z",
     "iopub.status.busy": "2021-09-24T07:03:26.705044Z",
     "iopub.status.idle": "2021-09-24T07:03:26.713454Z",
     "shell.execute_reply": "2021-09-24T07:03:26.712532Z",
     "shell.execute_reply.started": "2021-09-24T07:03:26.705312Z"
    }
   },
   "outputs": [],
   "source": [
    "cat_var = df.select_dtypes([\"O\"]).keys()\n",
    "cat_var"
   ]
  },
  {
   "cell_type": "code",
   "execution_count": 9,
   "metadata": {
    "execution": {
     "iopub.execute_input": "2021-09-24T07:03:41.791237Z",
     "iopub.status.busy": "2021-09-24T07:03:41.790969Z",
     "iopub.status.idle": "2021-09-24T07:03:41.797811Z",
     "shell.execute_reply": "2021-09-24T07:03:41.796998Z",
     "shell.execute_reply.started": "2021-09-24T07:03:41.791209Z"
    }
   },
   "outputs": [],
   "source": [
    "df_cols = df.columns\n",
    "df_cols"
   ]
  },
  {
   "cell_type": "code",
   "execution_count": 10,
   "metadata": {
    "execution": {
     "iopub.execute_input": "2021-09-24T07:04:47.976946Z",
     "iopub.status.busy": "2021-09-24T07:04:47.976510Z",
     "iopub.status.idle": "2021-09-24T07:04:47.984241Z",
     "shell.execute_reply": "2021-09-24T07:04:47.983636Z",
     "shell.execute_reply.started": "2021-09-24T07:04:47.976916Z"
    }
   },
   "outputs": [],
   "source": [
    "value = df[\"sex\"].unique()\n",
    "for num,var in enumerate(value):\n",
    "    num+=1\n",
    "    df[\"sex\"].replace(var, num, inplace=True)"
   ]
  },
  {
   "cell_type": "code",
   "execution_count": 11,
   "metadata": {
    "execution": {
     "iopub.execute_input": "2021-09-24T07:05:14.067483Z",
     "iopub.status.busy": "2021-09-24T07:05:14.067051Z",
     "iopub.status.idle": "2021-09-24T07:05:14.074499Z",
     "shell.execute_reply": "2021-09-24T07:05:14.073748Z",
     "shell.execute_reply.started": "2021-09-24T07:05:14.067453Z"
    }
   },
   "outputs": [],
   "source": [
    "value1 = df[\"smoker\"].unique()\n",
    "for num,var in enumerate(value1):\n",
    "    num+=1\n",
    "    df[\"smoker\"].replace(var, num, inplace=True)"
   ]
  },
  {
   "cell_type": "code",
   "execution_count": 12,
   "metadata": {
    "execution": {
     "iopub.execute_input": "2021-09-24T07:05:32.551761Z",
     "iopub.status.busy": "2021-09-24T07:05:32.550917Z",
     "iopub.status.idle": "2021-09-24T07:05:32.560061Z",
     "shell.execute_reply": "2021-09-24T07:05:32.559322Z",
     "shell.execute_reply.started": "2021-09-24T07:05:32.551725Z"
    }
   },
   "outputs": [],
   "source": [
    "value2 = df[\"region\"].unique()\n",
    "for num,var in enumerate(value2):\n",
    "    num+=1\n",
    "    df[\"region\"].replace(var, num, inplace=True)"
   ]
  },
  {
   "cell_type": "code",
   "execution_count": 13,
   "metadata": {
    "execution": {
     "iopub.execute_input": "2021-09-24T07:05:40.078993Z",
     "iopub.status.busy": "2021-09-24T07:05:40.078194Z",
     "iopub.status.idle": "2021-09-24T07:05:40.091164Z",
     "shell.execute_reply": "2021-09-24T07:05:40.090606Z",
     "shell.execute_reply.started": "2021-09-24T07:05:40.078954Z"
    }
   },
   "outputs": [],
   "source": [
    "df.head()"
   ]
  },
  {
   "cell_type": "code",
   "execution_count": 14,
   "metadata": {
    "execution": {
     "iopub.execute_input": "2021-09-24T07:05:49.075421Z",
     "iopub.status.busy": "2021-09-24T07:05:49.074661Z",
     "iopub.status.idle": "2021-09-24T07:05:49.089286Z",
     "shell.execute_reply": "2021-09-24T07:05:49.088482Z",
     "shell.execute_reply.started": "2021-09-24T07:05:49.075382Z"
    }
   },
   "outputs": [],
   "source": [
    "df.info()"
   ]
  },
  {
   "cell_type": "code",
   "execution_count": 15,
   "metadata": {
    "execution": {
     "iopub.execute_input": "2021-09-24T07:06:03.013317Z",
     "iopub.status.busy": "2021-09-24T07:06:03.013019Z",
     "iopub.status.idle": "2021-09-24T07:06:03.022640Z",
     "shell.execute_reply": "2021-09-24T07:06:03.021603Z",
     "shell.execute_reply.started": "2021-09-24T07:06:03.013287Z"
    }
   },
   "outputs": [],
   "source": [
    "df.isnull().sum()"
   ]
  },
  {
   "cell_type": "code",
   "execution_count": 18,
   "metadata": {
    "execution": {
     "iopub.execute_input": "2021-09-24T07:08:17.387282Z",
     "iopub.status.busy": "2021-09-24T07:08:17.386376Z",
     "iopub.status.idle": "2021-09-24T07:08:18.878387Z",
     "shell.execute_reply": "2021-09-24T07:08:18.877463Z",
     "shell.execute_reply.started": "2021-09-24T07:08:17.387213Z"
    }
   },
   "outputs": [],
   "source": [
    "from matplotlib import style\n",
    "style.use(\"ggplot\")\n",
    "for var in df_cols:\n",
    "    plt.hist(df[var], rwidth=0.8)\n",
    "    plt.title(f\"histogram of {var}\")\n",
    "    plt.xlabel(var)\n",
    "    plt.ylabel(\"score\")\n",
    "    plt.show()"
   ]
  },
  {
   "cell_type": "code",
   "execution_count": 19,
   "metadata": {
    "execution": {
     "iopub.execute_input": "2021-09-24T07:09:12.268772Z",
     "iopub.status.busy": "2021-09-24T07:09:12.268426Z",
     "iopub.status.idle": "2021-09-24T07:09:14.120176Z",
     "shell.execute_reply": "2021-09-24T07:09:14.119409Z",
     "shell.execute_reply.started": "2021-09-24T07:09:12.268736Z"
    }
   },
   "outputs": [],
   "source": [
    "for var in df_cols:\n",
    "    sns.distplot(df[var])\n",
    "    plt.title(f\"distplot of {var}\")\n",
    "    plt.show()"
   ]
  },
  {
   "cell_type": "code",
   "execution_count": 20,
   "metadata": {
    "execution": {
     "iopub.execute_input": "2021-09-24T07:09:25.819346Z",
     "iopub.status.busy": "2021-09-24T07:09:25.819035Z",
     "iopub.status.idle": "2021-09-24T07:09:28.458104Z",
     "shell.execute_reply": "2021-09-24T07:09:28.457444Z",
     "shell.execute_reply.started": "2021-09-24T07:09:25.819310Z"
    }
   },
   "outputs": [],
   "source": [
    "for var in df_cols:\n",
    "    sns.displot(df[var])\n",
    "    plt.title(f\"displot of {var}\")\n",
    "    plt.show()"
   ]
  },
  {
   "cell_type": "code",
   "execution_count": 25,
   "metadata": {
    "execution": {
     "iopub.execute_input": "2021-09-24T07:11:06.510024Z",
     "iopub.status.busy": "2021-09-24T07:11:06.509602Z",
     "iopub.status.idle": "2021-09-24T07:11:07.649837Z",
     "shell.execute_reply": "2021-09-24T07:11:07.649079Z",
     "shell.execute_reply.started": "2021-09-24T07:11:06.509991Z"
    }
   },
   "outputs": [],
   "source": [
    "for var in df_cols:\n",
    "    sns.boxplot(df[var])\n",
    "    plt.title(f\"boxplot of {var}\")\n",
    "    plt.show()"
   ]
  },
  {
   "cell_type": "code",
   "execution_count": 24,
   "metadata": {
    "execution": {
     "iopub.execute_input": "2021-09-24T07:10:35.248068Z",
     "iopub.status.busy": "2021-09-24T07:10:35.247617Z",
     "iopub.status.idle": "2021-09-24T07:10:35.253419Z",
     "shell.execute_reply": "2021-09-24T07:10:35.252759Z",
     "shell.execute_reply.started": "2021-09-24T07:10:35.248027Z"
    }
   },
   "outputs": [],
   "source": [
    "df_col = df_cols[0:6]\n",
    "df_col"
   ]
  },
  {
   "cell_type": "code",
   "execution_count": 26,
   "metadata": {
    "execution": {
     "iopub.execute_input": "2021-09-24T07:11:32.008453Z",
     "iopub.status.busy": "2021-09-24T07:11:32.008139Z",
     "iopub.status.idle": "2021-09-24T07:11:44.013574Z",
     "shell.execute_reply": "2021-09-24T07:11:44.012654Z",
     "shell.execute_reply.started": "2021-09-24T07:11:32.008422Z"
    }
   },
   "outputs": [],
   "source": [
    "for var in df_col:\n",
    "    sns.lineplot(df[var], df[\"charges\"])\n",
    "    plt.title(f\"lineplot of {var} and charges\")\n",
    "    plt.show()"
   ]
  },
  {
   "cell_type": "code",
   "execution_count": 27,
   "metadata": {
    "execution": {
     "iopub.execute_input": "2021-09-24T07:11:53.872315Z",
     "iopub.status.busy": "2021-09-24T07:11:53.872010Z",
     "iopub.status.idle": "2021-09-24T07:11:55.234082Z",
     "shell.execute_reply": "2021-09-24T07:11:55.233111Z",
     "shell.execute_reply.started": "2021-09-24T07:11:53.872277Z"
    }
   },
   "outputs": [],
   "source": [
    "for var in df_col:\n",
    "    sns.scatterplot(df[var], df[\"charges\"])\n",
    "    plt.title(f\"scatterplot of {var} and charges\")\n",
    "    plt.show()"
   ]
  },
  {
   "cell_type": "code",
   "execution_count": 29,
   "metadata": {
    "execution": {
     "iopub.execute_input": "2021-09-24T07:12:46.683041Z",
     "iopub.status.busy": "2021-09-24T07:12:46.682735Z",
     "iopub.status.idle": "2021-09-24T07:12:47.534090Z",
     "shell.execute_reply": "2021-09-24T07:12:47.533230Z",
     "shell.execute_reply.started": "2021-09-24T07:12:46.683005Z"
    }
   },
   "outputs": [],
   "source": [
    "plt.figure(figsize=(16,9))\n",
    "sns.heatmap(df.corr(), annot=True)\n",
    "plt.show()"
   ]
  },
  {
   "cell_type": "code",
   "execution_count": 30,
   "metadata": {
    "execution": {
     "iopub.execute_input": "2021-09-24T07:13:15.595813Z",
     "iopub.status.busy": "2021-09-24T07:13:15.594972Z",
     "iopub.status.idle": "2021-09-24T07:13:26.031583Z",
     "shell.execute_reply": "2021-09-24T07:13:26.030683Z",
     "shell.execute_reply.started": "2021-09-24T07:13:15.595772Z"
    }
   },
   "outputs": [],
   "source": [
    "sns.pairplot(df)\n",
    "plt.show()"
   ]
  },
  {
   "cell_type": "code",
   "execution_count": 31,
   "metadata": {
    "execution": {
     "iopub.execute_input": "2021-09-24T07:13:52.796116Z",
     "iopub.status.busy": "2021-09-24T07:13:52.795795Z",
     "iopub.status.idle": "2021-09-24T07:13:52.802934Z",
     "shell.execute_reply": "2021-09-24T07:13:52.801932Z",
     "shell.execute_reply.started": "2021-09-24T07:13:52.796077Z"
    }
   },
   "outputs": [],
   "source": [
    "df_cols"
   ]
  },
  {
   "cell_type": "code",
   "execution_count": 32,
   "metadata": {
    "execution": {
     "iopub.execute_input": "2021-09-24T07:14:16.693556Z",
     "iopub.status.busy": "2021-09-24T07:14:16.692555Z",
     "iopub.status.idle": "2021-09-24T07:14:16.699308Z",
     "shell.execute_reply": "2021-09-24T07:14:16.698350Z",
     "shell.execute_reply.started": "2021-09-24T07:14:16.693515Z"
    }
   },
   "outputs": [],
   "source": [
    "X = df.drop(\"charges\", axis=1)\n",
    "y = df[\"charges\"]"
   ]
  },
  {
   "cell_type": "code",
   "execution_count": 33,
   "metadata": {
    "execution": {
     "iopub.execute_input": "2021-09-24T07:15:44.109311Z",
     "iopub.status.busy": "2021-09-24T07:15:44.108855Z",
     "iopub.status.idle": "2021-09-24T07:15:44.117610Z",
     "shell.execute_reply": "2021-09-24T07:15:44.116740Z",
     "shell.execute_reply.started": "2021-09-24T07:15:44.109252Z"
    }
   },
   "outputs": [],
   "source": [
    "from sklearn.model_selection import train_test_split\n",
    "X_train, X_test, y_train, y_test = train_test_split(X, y, test_size=0.2, random_state=123)"
   ]
  },
  {
   "cell_type": "code",
   "execution_count": 34,
   "metadata": {
    "execution": {
     "iopub.execute_input": "2021-09-24T07:16:52.555746Z",
     "iopub.status.busy": "2021-09-24T07:16:52.555038Z",
     "iopub.status.idle": "2021-09-24T07:16:52.567337Z",
     "shell.execute_reply": "2021-09-24T07:16:52.566362Z",
     "shell.execute_reply.started": "2021-09-24T07:16:52.555704Z"
    }
   },
   "outputs": [],
   "source": [
    "from sklearn.preprocessing import StandardScaler\n",
    "sc = StandardScaler()\n",
    "sc.fit(X_train)\n",
    "X_train = sc.transform(X_train)\n",
    "X_test = sc.transform(X_test)"
   ]
  },
  {
   "cell_type": "code",
   "execution_count": 35,
   "metadata": {
    "execution": {
     "iopub.execute_input": "2021-09-24T07:18:20.297243Z",
     "iopub.status.busy": "2021-09-24T07:18:20.296950Z",
     "iopub.status.idle": "2021-09-24T07:18:20.310921Z",
     "shell.execute_reply": "2021-09-24T07:18:20.309964Z",
     "shell.execute_reply.started": "2021-09-24T07:18:20.297212Z"
    }
   },
   "outputs": [],
   "source": [
    "from sklearn.linear_model import LinearRegression, Ridge, Lasso\n",
    "lr = LinearRegression()\n",
    "lr.fit(X_train, y_train)\n",
    "y_pred = lr.predict(X_test)\n",
    "lr.score(X_test, y_test)"
   ]
  },
  {
   "cell_type": "code",
   "execution_count": 36,
   "metadata": {
    "execution": {
     "iopub.execute_input": "2021-09-24T07:19:13.415906Z",
     "iopub.status.busy": "2021-09-24T07:19:13.415618Z",
     "iopub.status.idle": "2021-09-24T07:19:13.427651Z",
     "shell.execute_reply": "2021-09-24T07:19:13.426813Z",
     "shell.execute_reply.started": "2021-09-24T07:19:13.415876Z"
    }
   },
   "outputs": [],
   "source": [
    "rd = Ridge()\n",
    "rd.fit(X_train, y_train)\n",
    "y_pred1 = rd.predict(X_test)\n",
    "rd.score(X_test, y_test)"
   ]
  },
  {
   "cell_type": "code",
   "execution_count": 37,
   "metadata": {
    "execution": {
     "iopub.execute_input": "2021-09-24T07:20:02.048966Z",
     "iopub.status.busy": "2021-09-24T07:20:02.048290Z",
     "iopub.status.idle": "2021-09-24T07:20:02.060676Z",
     "shell.execute_reply": "2021-09-24T07:20:02.059687Z",
     "shell.execute_reply.started": "2021-09-24T07:20:02.048923Z"
    }
   },
   "outputs": [],
   "source": [
    "lc = Lasso()\n",
    "lc.fit(X_train, y_train)\n",
    "y_pred2 = lc.predict(X_test)\n",
    "lc.score(X_test, y_test)"
   ]
  },
  {
   "cell_type": "code",
   "execution_count": 38,
   "metadata": {
    "execution": {
     "iopub.execute_input": "2021-09-24T07:37:20.591548Z",
     "iopub.status.busy": "2021-09-24T07:37:20.591280Z",
     "iopub.status.idle": "2021-09-24T07:37:20.700602Z",
     "shell.execute_reply": "2021-09-24T07:37:20.699757Z",
     "shell.execute_reply.started": "2021-09-24T07:37:20.591520Z"
    }
   },
   "outputs": [],
   "source": [
    "from sklearn.svm import SVR\n",
    "svr = SVR()\n",
    "svr.fit(X_train, y_train)\n",
    "y_pred3 = svr.predict(X_test)\n",
    "svr.score(X_test, y_test)"
   ]
  },
  {
   "cell_type": "code",
   "execution_count": 39,
   "metadata": {
    "execution": {
     "iopub.execute_input": "2021-09-24T07:38:22.875147Z",
     "iopub.status.busy": "2021-09-24T07:38:22.874857Z",
     "iopub.status.idle": "2021-09-24T07:38:22.892378Z",
     "shell.execute_reply": "2021-09-24T07:38:22.891563Z",
     "shell.execute_reply.started": "2021-09-24T07:38:22.875117Z"
    }
   },
   "outputs": [],
   "source": [
    "from sklearn.tree import DecisionTreeRegressor\n",
    "dtr = DecisionTreeRegressor()\n",
    "dtr.fit(X_train, y_train)\n",
    "y_pred4 = dtr.predict(X_test)\n",
    "dtr.score(X_test, y_test)"
   ]
  },
  {
   "cell_type": "code",
   "execution_count": 40,
   "metadata": {
    "execution": {
     "iopub.execute_input": "2021-09-24T07:39:52.407306Z",
     "iopub.status.busy": "2021-09-24T07:39:52.407001Z",
     "iopub.status.idle": "2021-09-24T07:39:52.819877Z",
     "shell.execute_reply": "2021-09-24T07:39:52.819317Z",
     "shell.execute_reply.started": "2021-09-24T07:39:52.407253Z"
    }
   },
   "outputs": [],
   "source": [
    "from sklearn.ensemble import RandomForestRegressor\n",
    "rfr = RandomForestRegressor()\n",
    "rfr.fit(X_train, y_train)\n",
    "y_pred5 = rfr.predict(X_test)\n",
    "rfr.score(X_test, y_test)"
   ]
  },
  {
   "cell_type": "code",
   "execution_count": 41,
   "metadata": {
    "execution": {
     "iopub.execute_input": "2021-09-24T07:40:56.898757Z",
     "iopub.status.busy": "2021-09-24T07:40:56.898115Z",
     "iopub.status.idle": "2021-09-24T07:40:56.935829Z",
     "shell.execute_reply": "2021-09-24T07:40:56.934691Z",
     "shell.execute_reply.started": "2021-09-24T07:40:56.898710Z"
    }
   },
   "outputs": [],
   "source": [
    "from sklearn.ensemble import AdaBoostRegressor\n",
    "ada = AdaBoostRegressor()\n",
    "ada.fit(X_train, y_train)\n",
    "y_pred6 = ada.predict(X_test)\n",
    "ada.score(X_test, y_test)"
   ]
  },
  {
   "cell_type": "code",
   "execution_count": 42,
   "metadata": {
    "execution": {
     "iopub.execute_input": "2021-09-24T07:42:18.968046Z",
     "iopub.status.busy": "2021-09-24T07:42:18.967083Z",
     "iopub.status.idle": "2021-09-24T07:42:19.078791Z",
     "shell.execute_reply": "2021-09-24T07:42:19.078271Z",
     "shell.execute_reply.started": "2021-09-24T07:42:18.967985Z"
    }
   },
   "outputs": [],
   "source": [
    "from sklearn.ensemble import GradientBoostingRegressor\n",
    "gbr = GradientBoostingRegressor()\n",
    "gbr.fit(X_train, y_train)\n",
    "y_pred7 = gbr.predict(X_test)\n",
    "gbr.score(X_test, y_test)"
   ]
  },
  {
   "cell_type": "code",
   "execution_count": 43,
   "metadata": {
    "execution": {
     "iopub.execute_input": "2021-09-24T07:47:11.035791Z",
     "iopub.status.busy": "2021-09-24T07:47:11.035471Z",
     "iopub.status.idle": "2021-09-24T07:47:11.053583Z",
     "shell.execute_reply": "2021-09-24T07:47:11.052885Z",
     "shell.execute_reply.started": "2021-09-24T07:47:11.035756Z"
    }
   },
   "outputs": [],
   "source": [
    "from sklearn.neighbors import KNeighborsRegressor\n",
    "knr = KNeighborsRegressor()\n",
    "knr.fit(X_train, y_train)\n",
    "y_pred8 = knr.predict(X_test)\n",
    "knr.score(X_test, y_test)"
   ]
  },
  {
   "cell_type": "code",
   "execution_count": 44,
   "metadata": {
    "execution": {
     "iopub.execute_input": "2021-09-24T07:48:40.789331Z",
     "iopub.status.busy": "2021-09-24T07:48:40.789000Z",
     "iopub.status.idle": "2021-09-24T07:48:40.934433Z",
     "shell.execute_reply": "2021-09-24T07:48:40.933470Z",
     "shell.execute_reply.started": "2021-09-24T07:48:40.789294Z"
    }
   },
   "outputs": [],
   "source": [
    "from xgboost import XGBRegressor\n",
    "xgb = XGBRegressor()\n",
    "xgb.fit(X_train, y_train)\n",
    "y_pred9 = xgb.predict(X_test)\n",
    "xgb.score(X_test, y_test)"
   ]
  },
  {
   "cell_type": "code",
   "execution_count": 53,
   "metadata": {
    "execution": {
     "iopub.execute_input": "2021-09-24T07:53:02.141776Z",
     "iopub.status.busy": "2021-09-24T07:53:02.141504Z",
     "iopub.status.idle": "2021-09-24T07:53:03.614104Z",
     "shell.execute_reply": "2021-09-24T07:53:03.613304Z",
     "shell.execute_reply.started": "2021-09-24T07:53:02.141749Z"
    }
   },
   "outputs": [],
   "source": [
    "from sklearn.model_selection import cross_val_score\n",
    "cv = cross_val_score(gbr, X_train, y_train, cv=15)\n",
    "cv, cv.mean()"
   ]
  },
  {
   "cell_type": "code",
   "execution_count": 57,
   "metadata": {
    "execution": {
     "iopub.execute_input": "2021-09-24T07:54:47.302567Z",
     "iopub.status.busy": "2021-09-24T07:54:47.302248Z",
     "iopub.status.idle": "2021-09-24T07:54:47.308942Z",
     "shell.execute_reply": "2021-09-24T07:54:47.308335Z",
     "shell.execute_reply.started": "2021-09-24T07:54:47.302534Z"
    }
   },
   "outputs": [],
   "source": [
    "X.columns"
   ]
  },
  {
   "cell_type": "code",
   "execution_count": 67,
   "metadata": {
    "execution": {
     "iopub.execute_input": "2021-09-24T08:23:12.110890Z",
     "iopub.status.busy": "2021-09-24T08:23:12.109908Z",
     "iopub.status.idle": "2021-09-24T08:23:12.119344Z",
     "shell.execute_reply": "2021-09-24T08:23:12.118685Z",
     "shell.execute_reply.started": "2021-09-24T08:23:12.110843Z"
    }
   },
   "outputs": [],
   "source": [
    "def hospital_charges_prediction_model(model, age, sex, bmi, children, smoker, region):\n",
    "    \n",
    "    for num,var in enumerate(value):\n",
    "        if var==sex:\n",
    "            sex=num\n",
    "            \n",
    "    for num,var in enumerate(value1):\n",
    "        if var==smoker:\n",
    "            smoker=num\n",
    "            \n",
    "    for num,var in enumerate(value2):\n",
    "        if var==region:\n",
    "            region=num\n",
    "            \n",
    "            \n",
    "    x = np.zeros(len(X.columns))\n",
    "    \n",
    "    x[0] = age\n",
    "    x[1] = sex\n",
    "    x[2] = bmi\n",
    "    x[3] = children\n",
    "    x[4] = smoker\n",
    "    x[5] = region\n",
    "    \n",
    "    x = sc.transform([x])[0]\n",
    "    return model.predict([x])[0]"
   ]
  },
  {
   "cell_type": "code",
   "execution_count": 74,
   "metadata": {
    "execution": {
     "iopub.execute_input": "2021-09-24T08:30:54.269052Z",
     "iopub.status.busy": "2021-09-24T08:30:54.268044Z",
     "iopub.status.idle": "2021-09-24T08:30:54.273052Z",
     "shell.execute_reply": "2021-09-24T08:30:54.272195Z",
     "shell.execute_reply.started": "2021-09-24T08:30:54.269006Z"
    }
   },
   "outputs": [],
   "source": [
    "import joblib"
   ]
  },
  {
   "cell_type": "code",
   "execution_count": 77,
   "metadata": {
    "execution": {
     "iopub.execute_input": "2021-09-24T08:31:12.536274Z",
     "iopub.status.busy": "2021-09-24T08:31:12.535976Z",
     "iopub.status.idle": "2021-09-24T08:31:12.550656Z",
     "shell.execute_reply": "2021-09-24T08:31:12.549551Z",
     "shell.execute_reply.started": "2021-09-24T08:31:12.536235Z"
    }
   },
   "outputs": [],
   "source": [
    "joblib.dump(gbr, \"./hospital_charges_prediction_model.pkl\")"
   ]
  },
  {
   "cell_type": "code",
   "execution_count": 76,
   "metadata": {
    "execution": {
     "iopub.execute_input": "2021-09-24T08:30:55.688274Z",
     "iopub.status.busy": "2021-09-24T08:30:55.687974Z",
     "iopub.status.idle": "2021-09-24T08:30:55.701833Z",
     "shell.execute_reply": "2021-09-24T08:30:55.700817Z",
     "shell.execute_reply.started": "2021-09-24T08:30:55.688231Z"
    }
   },
   "outputs": [],
   "source": [
    "model = joblib.load(\"./hospital_charges_prediction_model.pkl\")"
   ]
  },
  {
   "cell_type": "code",
   "execution_count": 68,
   "metadata": {
    "execution": {
     "iopub.execute_input": "2021-09-24T08:24:34.630097Z",
     "iopub.status.busy": "2021-09-24T08:24:34.629249Z",
     "iopub.status.idle": "2021-09-24T08:24:34.644014Z",
     "shell.execute_reply": "2021-09-24T08:24:34.643014Z",
     "shell.execute_reply.started": "2021-09-24T08:24:34.630049Z"
    }
   },
   "outputs": [],
   "source": [
    "df.head()"
   ]
  },
  {
   "cell_type": "code",
   "execution_count": 72,
   "metadata": {
    "execution": {
     "iopub.execute_input": "2021-09-24T08:25:54.943601Z",
     "iopub.status.busy": "2021-09-24T08:25:54.942651Z",
     "iopub.status.idle": "2021-09-24T08:25:54.949379Z",
     "shell.execute_reply": "2021-09-24T08:25:54.948754Z",
     "shell.execute_reply.started": "2021-09-24T08:25:54.943561Z"
    }
   },
   "outputs": [],
   "source": [
    "ans = hospital_charges_prediction_model(model, age=23, sex=\"male\", bmi=27.900, children=0, smoker=\"yes\", region=\"southwest\")"
   ]
  },
  {
   "cell_type": "code",
   "execution_count": 73,
   "metadata": {
    "execution": {
     "iopub.execute_input": "2021-09-24T08:25:58.842597Z",
     "iopub.status.busy": "2021-09-24T08:25:58.841863Z",
     "iopub.status.idle": "2021-09-24T08:25:58.848111Z",
     "shell.execute_reply": "2021-09-24T08:25:58.847366Z",
     "shell.execute_reply.started": "2021-09-24T08:25:58.842562Z"
    }
   },
   "outputs": [],
   "source": [
    "ans"
   ]
  },
  {
   "cell_type": "code",
   "execution_count": null,
   "metadata": {},
   "outputs": [],
   "source": []
  }
 ],
 "metadata": {
  "kernelspec": {
   "display_name": "Python 3 (ipykernel)",
   "language": "python",
   "name": "python3"
  },
  "language_info": {
   "codemirror_mode": {
    "name": "ipython",
    "version": 3
   },
   "file_extension": ".py",
   "mimetype": "text/x-python",
   "name": "python",
   "nbconvert_exporter": "python",
   "pygments_lexer": "ipython3",
   "version": "3.8.11"
  }
 },
 "nbformat": 4,
 "nbformat_minor": 4
}
